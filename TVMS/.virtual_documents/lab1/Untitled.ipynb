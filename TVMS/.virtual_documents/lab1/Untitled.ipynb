import pandas as pd
import numpy as np
from scipy import stats
import matplotlib.pyplot as plt


df = pd.read_csv("terverlab.csv", decimal=',')
df.info()


df.columns.values


for i in df.columns.values:
  print("column: ", i)
  print("Среднее: ", np.mean(df[i]))
  print("Медиана: ", np.median(df[i]))
  print("Дисперсия: ", np.var(df[i], ddof=1))
  print('Среднеквадратическое отклонение', np.std(df[i], ddof=1))
  print('Коэффициент асимметрии', stats.skew(df[i]))
  print('Коэффициент эксцесса', stats.kurtosis(df[i]))
  print('Коэффициент вариации', (np.std(df[i], ddof=1) / np.mean(df[i])) * 100 if np.mean(df[i]) != 0 else np.nan)
  


for i in df.columns.values:
  print(max(df[i]), min(df[i]))


k = int(1 + 3.332*np.log10(len(df)))
k


r = list(range(k))
s = 0
for i in range(200): 
  r[i] = s
  s+=0.5


plt.figure(figsize=(15,8))
#plt.xlim(0, 50)
for i in df.columns.values:
  step = (max(df[i]) - min(df[i]))/k
  bins = [j * step for j in range(k * 2 + 1)]
  print("Ядро: ", end='')
  for j in range(0, len(bins) - 2, 2):
    print('[', bins[j], ', ', bins[j + 1], ')', end='')
  plt.hist(df[i], bins=bins, label=i,alpha=0.5, density=True)
  print()
plt.legend(fontsize=16)


df.plot(kind='kde', xlim=(0, 40))
